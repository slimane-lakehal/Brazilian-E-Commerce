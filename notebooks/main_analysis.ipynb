{
 "cells": [
  {
   "cell_type": "markdown",
   "id": "f693e8c6",
   "metadata": {},
   "source": [
    "# Brazilian E-Commerce Analysis Pipeline\n",
    "\n",
    "This notebook demonstrates the complete analysis pipeline using our refactored codebase. It includes:\n",
    "1. Data Loading and Preprocessing\n",
    "2. Exploratory Data Analysis\n",
    "3. Customer Analysis\n",
    "4. Sales Analysis\n",
    "5. Product Analysis\n",
    "6. Model Evaluation"
   ]
  },
  {
   "cell_type": "code",
   "execution_count": null,
   "id": "041e6abc",
   "metadata": {},
   "outputs": [],
   "source": [
    "import sys\n",
    "from pathlib import Path\n",
    "\n",
    "# Add project root to Python path\n",
    "project_root = Path.cwd().parent\n",
    "sys.path.append(str(project_root))\n",
    "\n",
    "import pandas as pd\n",
    "import numpy as np\n",
    "import matplotlib.pyplot as plt\n",
    "import seaborn as sns\n",
    "\n",
    "from src.data_processing.data_loader import OlistDataLoader\n",
    "from src.visualization.plot_utils import (\n",
    "    set_plotting_style,\n",
    "    plot_time_series,\n",
    "    plot_category_distribution,\n",
    "    plot_correlation_matrix\n",
    ")\n",
    "from src.models.model_evaluation import (\n",
    "    evaluate_classifier,\n",
    "    evaluate_regression,\n",
    "    evaluate_time_series\n",
    ")"
   ]
  },
  {
   "cell_type": "markdown",
   "id": "41a5689d",
   "metadata": {},
   "source": [
    "## 1. Data Loading and Preprocessing"
   ]
  },
  {
   "cell_type": "code",
   "execution_count": null,
   "id": "3875894b",
   "metadata": {},
   "outputs": [],
   "source": [
    "# Initialize data loader\n",
    "data_dir = project_root / 'data' / 'raw'\n",
    "loader = OlistDataLoader(data_dir)\n",
    "\n",
    "# Load and preprocess all datasets\n",
    "processed_data = loader.get_preprocessed_data()\n",
    "\n",
    "# Extract individual datasets\n",
    "orders = processed_data['orders']\n",
    "customer_features = processed_data['customer_features']\n",
    "products = processed_data['products']\n",
    "reviews = processed_data['reviews']"
   ]
  },
  {
   "cell_type": "markdown",
   "id": "7eb95e29",
   "metadata": {},
   "source": [
    "## 2. Exploratory Data Analysis"
   ]
  },
  {
   "cell_type": "code",
   "execution_count": null,
   "id": "f51ee5b6",
   "metadata": {},
   "outputs": [],
   "source": [
    "# Set consistent plotting style\n",
    "set_plotting_style()\n",
    "\n",
    "# Time series of orders\n",
    "daily_orders = orders.groupby('order_purchase_timestamp').size().reset_index()\n",
    "daily_orders.columns = ['date', 'count']\n",
    "\n",
    "fig = plot_time_series(\n",
    "    data=daily_orders,\n",
    "    date_column='date',\n",
    "    value_column='count',\n",
    "    title='Daily Order Volume'\n",
    ")\n",
    "plt.show()\n",
    "\n",
    "# Product category distribution\n",
    "fig = plot_category_distribution(\n",
    "    data=products,\n",
    "    category_column='product_category_name',\n",
    "    title='Product Categories Distribution'\n",
    ")\n",
    "plt.show()"
   ]
  },
  {
   "cell_type": "markdown",
   "id": "efb4bbb8",
   "metadata": {},
   "source": [
    "## 3. Customer Analysis"
   ]
  },
  {
   "cell_type": "code",
   "execution_count": null,
   "id": "c8291b31",
   "metadata": {},
   "outputs": [],
   "source": [
    "# Analyze customer features\n",
    "customer_metrics = [\n",
    "    'order_count',\n",
    "    'total_spend',\n",
    "    'avg_order_value',\n",
    "    'days_since_last_purchase'\n",
    "]\n",
    "\n",
    "fig = plot_correlation_matrix(\n",
    "    data=customer_features,\n",
    "    columns=customer_metrics,\n",
    "    title='Customer Metrics Correlation'\n",
    ")\n",
    "plt.show()"
   ]
  },
  {
   "cell_type": "markdown",
   "id": "9750dc9f",
   "metadata": {},
   "source": [
    "## 4. Sales Analysis"
   ]
  },
  {
   "cell_type": "code",
   "execution_count": null,
   "id": "763dcd35",
   "metadata": {},
   "outputs": [],
   "source": [
    "# Monthly sales analysis\n",
    "orders['month'] = orders['order_purchase_timestamp'].dt.to_period('M')\n",
    "monthly_sales = orders.groupby('month').size().reset_index()\n",
    "monthly_sales.columns = ['month', 'sales']\n",
    "\n",
    "# Convert period to timestamp for plotting\n",
    "monthly_sales['month'] = monthly_sales['month'].astype(str).apply(pd.to_datetime)\n",
    "\n",
    "fig = plot_time_series(\n",
    "    data=monthly_sales,\n",
    "    date_column='month',\n",
    "    value_column='sales',\n",
    "    title='Monthly Sales Trend'\n",
    ")\n",
    "plt.show()"
   ]
  },
  {
   "cell_type": "markdown",
   "id": "77ee22bc",
   "metadata": {},
   "source": [
    "## 5. Model Evaluation Example"
   ]
  },
  {
   "cell_type": "code",
   "execution_count": null,
   "id": "f19f03f2",
   "metadata": {},
   "outputs": [],
   "source": [
    "# Example: Evaluate time series forecast\n",
    "# (Using dummy data for illustration)\n",
    "dates = pd.date_range(start='2022-01-01', end='2022-12-31', freq='D')\n",
    "actual = pd.Series(np.random.normal(100, 10, len(dates)), index=dates)\n",
    "forecast = actual + np.random.normal(0, 5, len(dates))\n",
    "\n",
    "metrics = evaluate_time_series(actual, forecast)\n",
    "print(\"Time Series Forecast Metrics:\")\n",
    "for metric, value in metrics.items():\n",
    "    print(f\"{metric.upper()}: {value:.2f}\")\n",
    "\n",
    "# Visualize actual vs forecast\n",
    "fig = plot_time_series(\n",
    "    data=pd.DataFrame({'date': dates, 'value': actual}),\n",
    "    date_column='date',\n",
    "    value_column='value',\n",
    "    title='Actual vs Forecast',\n",
    "    forecast=pd.Series(forecast, index=dates)\n",
    ")\n",
    "plt.show()"
   ]
  }
 ],
 "metadata": {
  "language_info": {
   "name": "python"
  }
 },
 "nbformat": 4,
 "nbformat_minor": 5
}
